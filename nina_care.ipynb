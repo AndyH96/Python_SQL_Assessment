{
  "nbformat": 4,
  "nbformat_minor": 0,
  "metadata": {
    "colab": {
      "provenance": []
    },
    "kernelspec": {
      "name": "python3",
      "display_name": "Python 3"
    },
    "language_info": {
      "name": "python"
    }
  },
  "cells": [
    {
      "cell_type": "markdown",
      "source": [
        "## Nina Care Assessment\n",
        "\n",
        "Background Info:\n",
        "For this assessment, we ask you to imagine you are working as Product Analyst. You have just been briefed on your newest assignment:\n",
        "Heads-up. The questions we are asking you are difficult to answer. Also for me, whilst I have all the context. Please give it your best-estimated guess! We just want to see how you think, don't worry about wrong or right.\n",
        "\n",
        "Dataset: https://docs.google.com/spreadsheets/d/17EJ3R9IRmFGPPa1Ge8-s2LqBsXr5zqdBrCJml8HI78Y\n",
        "\n",
        "Assessment by: Andy Ho"
      ],
      "metadata": {
        "id": "8bHy9ETDpI9P"
      }
    },
    {
      "cell_type": "markdown",
      "source": [
        "### Importing the necessary Libraries"
      ],
      "metadata": {
        "id": "z-bHpGEUynZ_"
      }
    },
    {
      "cell_type": "code",
      "execution_count": 1,
      "metadata": {
        "id": "A0g9yQ1iwx80"
      },
      "outputs": [],
      "source": [
        "import pandas as pd\n",
        "import numpy as np\n",
        "import os\n",
        "import sqlite3\n",
        "import matplotlib.pyplot as plt\n",
        "import matplotlib.dates as mdates\n",
        "import seaborn as sns\n",
        "from tabulate import tabulate"
      ]
    },
    {
      "cell_type": "markdown",
      "source": [
        "### Loading Fact Order CSV into dataframe"
      ],
      "metadata": {
        "id": "8KaNKZxB03UH"
      }
    },
    {
      "cell_type": "code",
      "source": [
        "# Read data from Fact Orders CSV file into a dataframe\n",
        "df_FactOrder = pd.read_csv('Fact_orders - fact_orders.csv')\n",
        "\n",
        "# Connect to an in-memory SQLite3 database\n",
        "conn = sqlite3.connect(':memory:')\n",
        "cur = conn.cursor()\n",
        "\n",
        "# Create a table in the database and insert the DataFrame data\n",
        "df_FactOrder.to_sql('fact_orders', conn, index=False)"
      ],
      "metadata": {
        "colab": {
          "base_uri": "https://localhost:8080/"
        },
        "id": "0r2EKeXVwy15",
        "outputId": "611e6aca-0e6e-48a8-9c4d-3322f26475d8"
      },
      "execution_count": 2,
      "outputs": [
        {
          "output_type": "execute_result",
          "data": {
            "text/plain": [
              "137988"
            ]
          },
          "metadata": {},
          "execution_count": 2
        }
      ]
    },
    {
      "cell_type": "markdown",
      "source": [
        "### First Observations"
      ],
      "metadata": {
        "id": "q08BUHhGMQWx"
      }
    },
    {
      "cell_type": "code",
      "source": [
        "# First observations of the table\n",
        "df_FactOrder.info()\n",
        "print(\"The table dimensions are:\",df_FactOrder.shape)"
      ],
      "metadata": {
        "id": "Z-sjJpJGxR63",
        "colab": {
          "base_uri": "https://localhost:8080/"
        },
        "outputId": "3c0bdcc8-9f11-4fba-ae02-af94a663f493"
      },
      "execution_count": 3,
      "outputs": [
        {
          "output_type": "stream",
          "name": "stdout",
          "text": [
            "<class 'pandas.core.frame.DataFrame'>\n",
            "RangeIndex: 137988 entries, 0 to 137987\n",
            "Data columns (total 9 columns):\n",
            " #   Column                   Non-Null Count   Dtype  \n",
            "---  ------                   --------------   -----  \n",
            " 0   order_id                 137988 non-null  object \n",
            " 1   booking_id               137988 non-null  object \n",
            " 2   customer_id              137988 non-null  object \n",
            " 3   net_revenue              137988 non-null  float64\n",
            " 4   gross_merchandise_value  137988 non-null  float64\n",
            " 5   date_of_checkout         137988 non-null  object \n",
            " 6   date_of_travel           137988 non-null  object \n",
            " 7   activity_category        131254 non-null  object \n",
            " 8   device_id                137988 non-null  int64  \n",
            "dtypes: float64(2), int64(1), object(6)\n",
            "memory usage: 9.5+ MB\n",
            "The table dimensions are: (137988, 9)\n"
          ]
        }
      ]
    },
    {
      "cell_type": "code",
      "source": [
        "df_FactOrder.head()"
      ],
      "metadata": {
        "id": "vibVgx6o4cMP",
        "colab": {
          "base_uri": "https://localhost:8080/",
          "height": 357
        },
        "outputId": "33db90e5-2833-448d-8b26-dc01e53caa07"
      },
      "execution_count": 4,
      "outputs": [
        {
          "output_type": "execute_result",
          "data": {
            "text/plain": [
              "                           order_id                        booking_id  \\\n",
              "0  ea647a26545133eb1178627c660eb307  79110c8c61651a17c71d36d1ff400902   \n",
              "1  c9d995fdd3f8f46113f72719428e58c0  cb3f1a6b758322c3750297bbbba75162   \n",
              "2  838a05584192eab5758dc76eb8754382  1d84c6ef74f4213bc111a31230e75d18   \n",
              "3  c552f12c32f6e4eaf8b67b088ba263ed  bf7f177122241fb49d8905a3c22a28c8   \n",
              "4  7474f90401e812a747c518061a0e964c  2b1b6db082b298d7a69d683d9415ecfe   \n",
              "\n",
              "                        customer_id  net_revenue  gross_merchandise_value  \\\n",
              "0  2e08815f0bc331f3c8239676b9755701    76.416113               362.809890   \n",
              "1  99a84ab22128410a7ca82a8848314880    30.105888               100.377201   \n",
              "2  7d2de46dab587a091d4d795f3466ec02    16.083138                41.534976   \n",
              "3  c8899bd2bdc56ef116a38ec0f2c2cfa2    13.950031                76.161595   \n",
              "4  e408bdd3d03e4f4189f48f0e8e9c2ec2    12.713799                51.909630   \n",
              "\n",
              "                date_of_checkout                 date_of_travel  \\\n",
              "0  2017-08-04T23:31:19.000+02:00  2017-08-06T20:00:00.000+02:00   \n",
              "1  2018-07-08T15:48:15.000+02:00  2018-07-11T12:15:00.000+02:00   \n",
              "2  2017-08-17T15:45:36.000+02:00  2017-08-17T09:30:00.000+02:00   \n",
              "3  2017-08-31T05:33:30.000+02:00  2017-09-02T14:15:00.000+02:00   \n",
              "4  2018-08-20T19:35:47.000+02:00  2018-08-21T10:00:00.000+02:00   \n",
              "\n",
              "   activity_category  device_id  \n",
              "0        City Cruise          1  \n",
              "1        City Cruise          3  \n",
              "2  Attraction Ticket          3  \n",
              "3  Attraction Ticket          2  \n",
              "4  Attraction Ticket          2  "
            ],
            "text/html": [
              "\n",
              "  <div id=\"df-bfc9b0f8-5270-4f01-9c18-59c2d62f50bb\">\n",
              "    <div class=\"colab-df-container\">\n",
              "      <div>\n",
              "<style scoped>\n",
              "    .dataframe tbody tr th:only-of-type {\n",
              "        vertical-align: middle;\n",
              "    }\n",
              "\n",
              "    .dataframe tbody tr th {\n",
              "        vertical-align: top;\n",
              "    }\n",
              "\n",
              "    .dataframe thead th {\n",
              "        text-align: right;\n",
              "    }\n",
              "</style>\n",
              "<table border=\"1\" class=\"dataframe\">\n",
              "  <thead>\n",
              "    <tr style=\"text-align: right;\">\n",
              "      <th></th>\n",
              "      <th>order_id</th>\n",
              "      <th>booking_id</th>\n",
              "      <th>customer_id</th>\n",
              "      <th>net_revenue</th>\n",
              "      <th>gross_merchandise_value</th>\n",
              "      <th>date_of_checkout</th>\n",
              "      <th>date_of_travel</th>\n",
              "      <th>activity_category</th>\n",
              "      <th>device_id</th>\n",
              "    </tr>\n",
              "  </thead>\n",
              "  <tbody>\n",
              "    <tr>\n",
              "      <th>0</th>\n",
              "      <td>ea647a26545133eb1178627c660eb307</td>\n",
              "      <td>79110c8c61651a17c71d36d1ff400902</td>\n",
              "      <td>2e08815f0bc331f3c8239676b9755701</td>\n",
              "      <td>76.416113</td>\n",
              "      <td>362.809890</td>\n",
              "      <td>2017-08-04T23:31:19.000+02:00</td>\n",
              "      <td>2017-08-06T20:00:00.000+02:00</td>\n",
              "      <td>City Cruise</td>\n",
              "      <td>1</td>\n",
              "    </tr>\n",
              "    <tr>\n",
              "      <th>1</th>\n",
              "      <td>c9d995fdd3f8f46113f72719428e58c0</td>\n",
              "      <td>cb3f1a6b758322c3750297bbbba75162</td>\n",
              "      <td>99a84ab22128410a7ca82a8848314880</td>\n",
              "      <td>30.105888</td>\n",
              "      <td>100.377201</td>\n",
              "      <td>2018-07-08T15:48:15.000+02:00</td>\n",
              "      <td>2018-07-11T12:15:00.000+02:00</td>\n",
              "      <td>City Cruise</td>\n",
              "      <td>3</td>\n",
              "    </tr>\n",
              "    <tr>\n",
              "      <th>2</th>\n",
              "      <td>838a05584192eab5758dc76eb8754382</td>\n",
              "      <td>1d84c6ef74f4213bc111a31230e75d18</td>\n",
              "      <td>7d2de46dab587a091d4d795f3466ec02</td>\n",
              "      <td>16.083138</td>\n",
              "      <td>41.534976</td>\n",
              "      <td>2017-08-17T15:45:36.000+02:00</td>\n",
              "      <td>2017-08-17T09:30:00.000+02:00</td>\n",
              "      <td>Attraction Ticket</td>\n",
              "      <td>3</td>\n",
              "    </tr>\n",
              "    <tr>\n",
              "      <th>3</th>\n",
              "      <td>c552f12c32f6e4eaf8b67b088ba263ed</td>\n",
              "      <td>bf7f177122241fb49d8905a3c22a28c8</td>\n",
              "      <td>c8899bd2bdc56ef116a38ec0f2c2cfa2</td>\n",
              "      <td>13.950031</td>\n",
              "      <td>76.161595</td>\n",
              "      <td>2017-08-31T05:33:30.000+02:00</td>\n",
              "      <td>2017-09-02T14:15:00.000+02:00</td>\n",
              "      <td>Attraction Ticket</td>\n",
              "      <td>2</td>\n",
              "    </tr>\n",
              "    <tr>\n",
              "      <th>4</th>\n",
              "      <td>7474f90401e812a747c518061a0e964c</td>\n",
              "      <td>2b1b6db082b298d7a69d683d9415ecfe</td>\n",
              "      <td>e408bdd3d03e4f4189f48f0e8e9c2ec2</td>\n",
              "      <td>12.713799</td>\n",
              "      <td>51.909630</td>\n",
              "      <td>2018-08-20T19:35:47.000+02:00</td>\n",
              "      <td>2018-08-21T10:00:00.000+02:00</td>\n",
              "      <td>Attraction Ticket</td>\n",
              "      <td>2</td>\n",
              "    </tr>\n",
              "  </tbody>\n",
              "</table>\n",
              "</div>\n",
              "      <button class=\"colab-df-convert\" onclick=\"convertToInteractive('df-bfc9b0f8-5270-4f01-9c18-59c2d62f50bb')\"\n",
              "              title=\"Convert this dataframe to an interactive table.\"\n",
              "              style=\"display:none;\">\n",
              "        \n",
              "  <svg xmlns=\"http://www.w3.org/2000/svg\" height=\"24px\"viewBox=\"0 0 24 24\"\n",
              "       width=\"24px\">\n",
              "    <path d=\"M0 0h24v24H0V0z\" fill=\"none\"/>\n",
              "    <path d=\"M18.56 5.44l.94 2.06.94-2.06 2.06-.94-2.06-.94-.94-2.06-.94 2.06-2.06.94zm-11 1L8.5 8.5l.94-2.06 2.06-.94-2.06-.94L8.5 2.5l-.94 2.06-2.06.94zm10 10l.94 2.06.94-2.06 2.06-.94-2.06-.94-.94-2.06-.94 2.06-2.06.94z\"/><path d=\"M17.41 7.96l-1.37-1.37c-.4-.4-.92-.59-1.43-.59-.52 0-1.04.2-1.43.59L10.3 9.45l-7.72 7.72c-.78.78-.78 2.05 0 2.83L4 21.41c.39.39.9.59 1.41.59.51 0 1.02-.2 1.41-.59l7.78-7.78 2.81-2.81c.8-.78.8-2.07 0-2.86zM5.41 20L4 18.59l7.72-7.72 1.47 1.35L5.41 20z\"/>\n",
              "  </svg>\n",
              "      </button>\n",
              "      \n",
              "  <style>\n",
              "    .colab-df-container {\n",
              "      display:flex;\n",
              "      flex-wrap:wrap;\n",
              "      gap: 12px;\n",
              "    }\n",
              "\n",
              "    .colab-df-convert {\n",
              "      background-color: #E8F0FE;\n",
              "      border: none;\n",
              "      border-radius: 50%;\n",
              "      cursor: pointer;\n",
              "      display: none;\n",
              "      fill: #1967D2;\n",
              "      height: 32px;\n",
              "      padding: 0 0 0 0;\n",
              "      width: 32px;\n",
              "    }\n",
              "\n",
              "    .colab-df-convert:hover {\n",
              "      background-color: #E2EBFA;\n",
              "      box-shadow: 0px 1px 2px rgba(60, 64, 67, 0.3), 0px 1px 3px 1px rgba(60, 64, 67, 0.15);\n",
              "      fill: #174EA6;\n",
              "    }\n",
              "\n",
              "    [theme=dark] .colab-df-convert {\n",
              "      background-color: #3B4455;\n",
              "      fill: #D2E3FC;\n",
              "    }\n",
              "\n",
              "    [theme=dark] .colab-df-convert:hover {\n",
              "      background-color: #434B5C;\n",
              "      box-shadow: 0px 1px 3px 1px rgba(0, 0, 0, 0.15);\n",
              "      filter: drop-shadow(0px 1px 2px rgba(0, 0, 0, 0.3));\n",
              "      fill: #FFFFFF;\n",
              "    }\n",
              "  </style>\n",
              "\n",
              "      <script>\n",
              "        const buttonEl =\n",
              "          document.querySelector('#df-bfc9b0f8-5270-4f01-9c18-59c2d62f50bb button.colab-df-convert');\n",
              "        buttonEl.style.display =\n",
              "          google.colab.kernel.accessAllowed ? 'block' : 'none';\n",
              "\n",
              "        async function convertToInteractive(key) {\n",
              "          const element = document.querySelector('#df-bfc9b0f8-5270-4f01-9c18-59c2d62f50bb');\n",
              "          const dataTable =\n",
              "            await google.colab.kernel.invokeFunction('convertToInteractive',\n",
              "                                                     [key], {});\n",
              "          if (!dataTable) return;\n",
              "\n",
              "          const docLinkHtml = 'Like what you see? Visit the ' +\n",
              "            '<a target=\"_blank\" href=https://colab.research.google.com/notebooks/data_table.ipynb>data table notebook</a>'\n",
              "            + ' to learn more about interactive tables.';\n",
              "          element.innerHTML = '';\n",
              "          dataTable['output_type'] = 'display_data';\n",
              "          await google.colab.output.renderOutput(dataTable, element);\n",
              "          const docLink = document.createElement('div');\n",
              "          docLink.innerHTML = docLinkHtml;\n",
              "          element.appendChild(docLink);\n",
              "        }\n",
              "      </script>\n",
              "    </div>\n",
              "  </div>\n",
              "  "
            ]
          },
          "metadata": {},
          "execution_count": 4
        }
      ]
    },
    {
      "cell_type": "code",
      "source": [
        "df_FactOrder.describe()"
      ],
      "metadata": {
        "colab": {
          "base_uri": "https://localhost:8080/",
          "height": 300
        },
        "id": "v7EMgPa6BFPv",
        "outputId": "31eaacd7-2908-48a3-86e8-a1362685ccad"
      },
      "execution_count": 5,
      "outputs": [
        {
          "output_type": "execute_result",
          "data": {
            "text/plain": [
              "         net_revenue  gross_merchandise_value      device_id\n",
              "count  137988.000000            137988.000000  137988.000000\n",
              "mean       33.051721               132.356857       1.730984\n",
              "std        35.736766               141.728076       0.910517\n",
              "min       -19.549436                 0.000000       1.000000\n",
              "25%        12.573208                50.988515       1.000000\n",
              "50%        23.536890                92.075054       2.000000\n",
              "75%        41.328937               163.994676       2.000000\n",
              "max      1143.417760              5251.720124       5.000000"
            ],
            "text/html": [
              "\n",
              "  <div id=\"df-ec9ed88e-7daf-4760-8755-7f8b516acf67\">\n",
              "    <div class=\"colab-df-container\">\n",
              "      <div>\n",
              "<style scoped>\n",
              "    .dataframe tbody tr th:only-of-type {\n",
              "        vertical-align: middle;\n",
              "    }\n",
              "\n",
              "    .dataframe tbody tr th {\n",
              "        vertical-align: top;\n",
              "    }\n",
              "\n",
              "    .dataframe thead th {\n",
              "        text-align: right;\n",
              "    }\n",
              "</style>\n",
              "<table border=\"1\" class=\"dataframe\">\n",
              "  <thead>\n",
              "    <tr style=\"text-align: right;\">\n",
              "      <th></th>\n",
              "      <th>net_revenue</th>\n",
              "      <th>gross_merchandise_value</th>\n",
              "      <th>device_id</th>\n",
              "    </tr>\n",
              "  </thead>\n",
              "  <tbody>\n",
              "    <tr>\n",
              "      <th>count</th>\n",
              "      <td>137988.000000</td>\n",
              "      <td>137988.000000</td>\n",
              "      <td>137988.000000</td>\n",
              "    </tr>\n",
              "    <tr>\n",
              "      <th>mean</th>\n",
              "      <td>33.051721</td>\n",
              "      <td>132.356857</td>\n",
              "      <td>1.730984</td>\n",
              "    </tr>\n",
              "    <tr>\n",
              "      <th>std</th>\n",
              "      <td>35.736766</td>\n",
              "      <td>141.728076</td>\n",
              "      <td>0.910517</td>\n",
              "    </tr>\n",
              "    <tr>\n",
              "      <th>min</th>\n",
              "      <td>-19.549436</td>\n",
              "      <td>0.000000</td>\n",
              "      <td>1.000000</td>\n",
              "    </tr>\n",
              "    <tr>\n",
              "      <th>25%</th>\n",
              "      <td>12.573208</td>\n",
              "      <td>50.988515</td>\n",
              "      <td>1.000000</td>\n",
              "    </tr>\n",
              "    <tr>\n",
              "      <th>50%</th>\n",
              "      <td>23.536890</td>\n",
              "      <td>92.075054</td>\n",
              "      <td>2.000000</td>\n",
              "    </tr>\n",
              "    <tr>\n",
              "      <th>75%</th>\n",
              "      <td>41.328937</td>\n",
              "      <td>163.994676</td>\n",
              "      <td>2.000000</td>\n",
              "    </tr>\n",
              "    <tr>\n",
              "      <th>max</th>\n",
              "      <td>1143.417760</td>\n",
              "      <td>5251.720124</td>\n",
              "      <td>5.000000</td>\n",
              "    </tr>\n",
              "  </tbody>\n",
              "</table>\n",
              "</div>\n",
              "      <button class=\"colab-df-convert\" onclick=\"convertToInteractive('df-ec9ed88e-7daf-4760-8755-7f8b516acf67')\"\n",
              "              title=\"Convert this dataframe to an interactive table.\"\n",
              "              style=\"display:none;\">\n",
              "        \n",
              "  <svg xmlns=\"http://www.w3.org/2000/svg\" height=\"24px\"viewBox=\"0 0 24 24\"\n",
              "       width=\"24px\">\n",
              "    <path d=\"M0 0h24v24H0V0z\" fill=\"none\"/>\n",
              "    <path d=\"M18.56 5.44l.94 2.06.94-2.06 2.06-.94-2.06-.94-.94-2.06-.94 2.06-2.06.94zm-11 1L8.5 8.5l.94-2.06 2.06-.94-2.06-.94L8.5 2.5l-.94 2.06-2.06.94zm10 10l.94 2.06.94-2.06 2.06-.94-2.06-.94-.94-2.06-.94 2.06-2.06.94z\"/><path d=\"M17.41 7.96l-1.37-1.37c-.4-.4-.92-.59-1.43-.59-.52 0-1.04.2-1.43.59L10.3 9.45l-7.72 7.72c-.78.78-.78 2.05 0 2.83L4 21.41c.39.39.9.59 1.41.59.51 0 1.02-.2 1.41-.59l7.78-7.78 2.81-2.81c.8-.78.8-2.07 0-2.86zM5.41 20L4 18.59l7.72-7.72 1.47 1.35L5.41 20z\"/>\n",
              "  </svg>\n",
              "      </button>\n",
              "      \n",
              "  <style>\n",
              "    .colab-df-container {\n",
              "      display:flex;\n",
              "      flex-wrap:wrap;\n",
              "      gap: 12px;\n",
              "    }\n",
              "\n",
              "    .colab-df-convert {\n",
              "      background-color: #E8F0FE;\n",
              "      border: none;\n",
              "      border-radius: 50%;\n",
              "      cursor: pointer;\n",
              "      display: none;\n",
              "      fill: #1967D2;\n",
              "      height: 32px;\n",
              "      padding: 0 0 0 0;\n",
              "      width: 32px;\n",
              "    }\n",
              "\n",
              "    .colab-df-convert:hover {\n",
              "      background-color: #E2EBFA;\n",
              "      box-shadow: 0px 1px 2px rgba(60, 64, 67, 0.3), 0px 1px 3px 1px rgba(60, 64, 67, 0.15);\n",
              "      fill: #174EA6;\n",
              "    }\n",
              "\n",
              "    [theme=dark] .colab-df-convert {\n",
              "      background-color: #3B4455;\n",
              "      fill: #D2E3FC;\n",
              "    }\n",
              "\n",
              "    [theme=dark] .colab-df-convert:hover {\n",
              "      background-color: #434B5C;\n",
              "      box-shadow: 0px 1px 3px 1px rgba(0, 0, 0, 0.15);\n",
              "      filter: drop-shadow(0px 1px 2px rgba(0, 0, 0, 0.3));\n",
              "      fill: #FFFFFF;\n",
              "    }\n",
              "  </style>\n",
              "\n",
              "      <script>\n",
              "        const buttonEl =\n",
              "          document.querySelector('#df-ec9ed88e-7daf-4760-8755-7f8b516acf67 button.colab-df-convert');\n",
              "        buttonEl.style.display =\n",
              "          google.colab.kernel.accessAllowed ? 'block' : 'none';\n",
              "\n",
              "        async function convertToInteractive(key) {\n",
              "          const element = document.querySelector('#df-ec9ed88e-7daf-4760-8755-7f8b516acf67');\n",
              "          const dataTable =\n",
              "            await google.colab.kernel.invokeFunction('convertToInteractive',\n",
              "                                                     [key], {});\n",
              "          if (!dataTable) return;\n",
              "\n",
              "          const docLinkHtml = 'Like what you see? Visit the ' +\n",
              "            '<a target=\"_blank\" href=https://colab.research.google.com/notebooks/data_table.ipynb>data table notebook</a>'\n",
              "            + ' to learn more about interactive tables.';\n",
              "          element.innerHTML = '';\n",
              "          dataTable['output_type'] = 'display_data';\n",
              "          await google.colab.output.renderOutput(dataTable, element);\n",
              "          const docLink = document.createElement('div');\n",
              "          docLink.innerHTML = docLinkHtml;\n",
              "          element.appendChild(docLink);\n",
              "        }\n",
              "      </script>\n",
              "    </div>\n",
              "  </div>\n",
              "  "
            ]
          },
          "metadata": {},
          "execution_count": 5
        }
      ]
    },
    {
      "cell_type": "code",
      "source": [
        "df_FactOrder.nunique()"
      ],
      "metadata": {
        "colab": {
          "base_uri": "https://localhost:8080/"
        },
        "id": "D15SMhx71jX8",
        "outputId": "56388e49-ee8e-4f0a-e447-7935c69dd4b2"
      },
      "execution_count": 6,
      "outputs": [
        {
          "output_type": "execute_result",
          "data": {
            "text/plain": [
              "order_id                   123597\n",
              "booking_id                 131431\n",
              "customer_id                 98631\n",
              "net_revenue                 17746\n",
              "gross_merchandise_value     29493\n",
              "date_of_checkout           123431\n",
              "date_of_travel              34344\n",
              "activity_category              11\n",
              "device_id                       5\n",
              "dtype: int64"
            ]
          },
          "metadata": {},
          "execution_count": 6
        }
      ]
    },
    {
      "cell_type": "code",
      "source": [
        "df_FactOrder.isnull().sum()"
      ],
      "metadata": {
        "colab": {
          "base_uri": "https://localhost:8080/"
        },
        "id": "4MzFrgK5Bxlm",
        "outputId": "d093497d-1215-4d68-8a2d-30b1b2026fee"
      },
      "execution_count": 7,
      "outputs": [
        {
          "output_type": "execute_result",
          "data": {
            "text/plain": [
              "order_id                      0\n",
              "booking_id                    0\n",
              "customer_id                   0\n",
              "net_revenue                   0\n",
              "gross_merchandise_value       0\n",
              "date_of_checkout              0\n",
              "date_of_travel                0\n",
              "activity_category          6734\n",
              "device_id                     0\n",
              "dtype: int64"
            ]
          },
          "metadata": {},
          "execution_count": 7
        }
      ]
    },
    {
      "cell_type": "markdown",
      "source": [
        "## Task 1:\n",
        "Clean the dataset. Point out anything you find that required cleaning."
      ],
      "metadata": {
        "id": "FknnRbTNxFUq"
      }
    },
    {
      "cell_type": "code",
      "source": [
        "# Remove any potential leading or trailing whitespaces in the columns\n",
        "# Convert activity_category column to upper and snakecase\n",
        "# Remove Duplicate rows\n",
        "\n",
        "df_FactOrder = df_FactOrder.applymap(lambda x: x.strip() if isinstance(x, str) else x)\\\n",
        "                  .assign(activity_category=lambda x: x['activity_category'].str.upper().str.replace(' ', '_'))\\\n",
        "                  .drop_duplicates()\n",
        "\n",
        "#Convert the date_of_checkout and date_of_travel columns to datetime\n",
        "df_FactOrder[\"date_of_checkout\"] = pd.to_datetime(df_FactOrder[\"date_of_checkout\"], utc=True)\n",
        "df_FactOrder[\"date_of_travel\"] = pd.to_datetime(df_FactOrder[\"date_of_travel\"], utc=True)\n",
        "\n",
        "df_FactOrder.head()\n"
      ],
      "metadata": {
        "colab": {
          "base_uri": "https://localhost:8080/",
          "height": 357
        },
        "id": "7DPM6EOd3K6J",
        "outputId": "07ee01e6-1483-4901-c39c-6524a6f2d8ce"
      },
      "execution_count": 8,
      "outputs": [
        {
          "output_type": "execute_result",
          "data": {
            "text/plain": [
              "                           order_id                        booking_id  \\\n",
              "0  ea647a26545133eb1178627c660eb307  79110c8c61651a17c71d36d1ff400902   \n",
              "1  c9d995fdd3f8f46113f72719428e58c0  cb3f1a6b758322c3750297bbbba75162   \n",
              "2  838a05584192eab5758dc76eb8754382  1d84c6ef74f4213bc111a31230e75d18   \n",
              "3  c552f12c32f6e4eaf8b67b088ba263ed  bf7f177122241fb49d8905a3c22a28c8   \n",
              "4  7474f90401e812a747c518061a0e964c  2b1b6db082b298d7a69d683d9415ecfe   \n",
              "\n",
              "                        customer_id  net_revenue  gross_merchandise_value  \\\n",
              "0  2e08815f0bc331f3c8239676b9755701    76.416113               362.809890   \n",
              "1  99a84ab22128410a7ca82a8848314880    30.105888               100.377201   \n",
              "2  7d2de46dab587a091d4d795f3466ec02    16.083138                41.534976   \n",
              "3  c8899bd2bdc56ef116a38ec0f2c2cfa2    13.950031                76.161595   \n",
              "4  e408bdd3d03e4f4189f48f0e8e9c2ec2    12.713799                51.909630   \n",
              "\n",
              "           date_of_checkout            date_of_travel  activity_category  \\\n",
              "0 2017-08-04 21:31:19+00:00 2017-08-06 18:00:00+00:00        CITY_CRUISE   \n",
              "1 2018-07-08 13:48:15+00:00 2018-07-11 10:15:00+00:00        CITY_CRUISE   \n",
              "2 2017-08-17 13:45:36+00:00 2017-08-17 07:30:00+00:00  ATTRACTION_TICKET   \n",
              "3 2017-08-31 03:33:30+00:00 2017-09-02 12:15:00+00:00  ATTRACTION_TICKET   \n",
              "4 2018-08-20 17:35:47+00:00 2018-08-21 08:00:00+00:00  ATTRACTION_TICKET   \n",
              "\n",
              "   device_id  \n",
              "0          1  \n",
              "1          3  \n",
              "2          3  \n",
              "3          2  \n",
              "4          2  "
            ],
            "text/html": [
              "\n",
              "  <div id=\"df-c59e68f9-244b-4864-9c3c-f4149cde7c99\">\n",
              "    <div class=\"colab-df-container\">\n",
              "      <div>\n",
              "<style scoped>\n",
              "    .dataframe tbody tr th:only-of-type {\n",
              "        vertical-align: middle;\n",
              "    }\n",
              "\n",
              "    .dataframe tbody tr th {\n",
              "        vertical-align: top;\n",
              "    }\n",
              "\n",
              "    .dataframe thead th {\n",
              "        text-align: right;\n",
              "    }\n",
              "</style>\n",
              "<table border=\"1\" class=\"dataframe\">\n",
              "  <thead>\n",
              "    <tr style=\"text-align: right;\">\n",
              "      <th></th>\n",
              "      <th>order_id</th>\n",
              "      <th>booking_id</th>\n",
              "      <th>customer_id</th>\n",
              "      <th>net_revenue</th>\n",
              "      <th>gross_merchandise_value</th>\n",
              "      <th>date_of_checkout</th>\n",
              "      <th>date_of_travel</th>\n",
              "      <th>activity_category</th>\n",
              "      <th>device_id</th>\n",
              "    </tr>\n",
              "  </thead>\n",
              "  <tbody>\n",
              "    <tr>\n",
              "      <th>0</th>\n",
              "      <td>ea647a26545133eb1178627c660eb307</td>\n",
              "      <td>79110c8c61651a17c71d36d1ff400902</td>\n",
              "      <td>2e08815f0bc331f3c8239676b9755701</td>\n",
              "      <td>76.416113</td>\n",
              "      <td>362.809890</td>\n",
              "      <td>2017-08-04 21:31:19+00:00</td>\n",
              "      <td>2017-08-06 18:00:00+00:00</td>\n",
              "      <td>CITY_CRUISE</td>\n",
              "      <td>1</td>\n",
              "    </tr>\n",
              "    <tr>\n",
              "      <th>1</th>\n",
              "      <td>c9d995fdd3f8f46113f72719428e58c0</td>\n",
              "      <td>cb3f1a6b758322c3750297bbbba75162</td>\n",
              "      <td>99a84ab22128410a7ca82a8848314880</td>\n",
              "      <td>30.105888</td>\n",
              "      <td>100.377201</td>\n",
              "      <td>2018-07-08 13:48:15+00:00</td>\n",
              "      <td>2018-07-11 10:15:00+00:00</td>\n",
              "      <td>CITY_CRUISE</td>\n",
              "      <td>3</td>\n",
              "    </tr>\n",
              "    <tr>\n",
              "      <th>2</th>\n",
              "      <td>838a05584192eab5758dc76eb8754382</td>\n",
              "      <td>1d84c6ef74f4213bc111a31230e75d18</td>\n",
              "      <td>7d2de46dab587a091d4d795f3466ec02</td>\n",
              "      <td>16.083138</td>\n",
              "      <td>41.534976</td>\n",
              "      <td>2017-08-17 13:45:36+00:00</td>\n",
              "      <td>2017-08-17 07:30:00+00:00</td>\n",
              "      <td>ATTRACTION_TICKET</td>\n",
              "      <td>3</td>\n",
              "    </tr>\n",
              "    <tr>\n",
              "      <th>3</th>\n",
              "      <td>c552f12c32f6e4eaf8b67b088ba263ed</td>\n",
              "      <td>bf7f177122241fb49d8905a3c22a28c8</td>\n",
              "      <td>c8899bd2bdc56ef116a38ec0f2c2cfa2</td>\n",
              "      <td>13.950031</td>\n",
              "      <td>76.161595</td>\n",
              "      <td>2017-08-31 03:33:30+00:00</td>\n",
              "      <td>2017-09-02 12:15:00+00:00</td>\n",
              "      <td>ATTRACTION_TICKET</td>\n",
              "      <td>2</td>\n",
              "    </tr>\n",
              "    <tr>\n",
              "      <th>4</th>\n",
              "      <td>7474f90401e812a747c518061a0e964c</td>\n",
              "      <td>2b1b6db082b298d7a69d683d9415ecfe</td>\n",
              "      <td>e408bdd3d03e4f4189f48f0e8e9c2ec2</td>\n",
              "      <td>12.713799</td>\n",
              "      <td>51.909630</td>\n",
              "      <td>2018-08-20 17:35:47+00:00</td>\n",
              "      <td>2018-08-21 08:00:00+00:00</td>\n",
              "      <td>ATTRACTION_TICKET</td>\n",
              "      <td>2</td>\n",
              "    </tr>\n",
              "  </tbody>\n",
              "</table>\n",
              "</div>\n",
              "      <button class=\"colab-df-convert\" onclick=\"convertToInteractive('df-c59e68f9-244b-4864-9c3c-f4149cde7c99')\"\n",
              "              title=\"Convert this dataframe to an interactive table.\"\n",
              "              style=\"display:none;\">\n",
              "        \n",
              "  <svg xmlns=\"http://www.w3.org/2000/svg\" height=\"24px\"viewBox=\"0 0 24 24\"\n",
              "       width=\"24px\">\n",
              "    <path d=\"M0 0h24v24H0V0z\" fill=\"none\"/>\n",
              "    <path d=\"M18.56 5.44l.94 2.06.94-2.06 2.06-.94-2.06-.94-.94-2.06-.94 2.06-2.06.94zm-11 1L8.5 8.5l.94-2.06 2.06-.94-2.06-.94L8.5 2.5l-.94 2.06-2.06.94zm10 10l.94 2.06.94-2.06 2.06-.94-2.06-.94-.94-2.06-.94 2.06-2.06.94z\"/><path d=\"M17.41 7.96l-1.37-1.37c-.4-.4-.92-.59-1.43-.59-.52 0-1.04.2-1.43.59L10.3 9.45l-7.72 7.72c-.78.78-.78 2.05 0 2.83L4 21.41c.39.39.9.59 1.41.59.51 0 1.02-.2 1.41-.59l7.78-7.78 2.81-2.81c.8-.78.8-2.07 0-2.86zM5.41 20L4 18.59l7.72-7.72 1.47 1.35L5.41 20z\"/>\n",
              "  </svg>\n",
              "      </button>\n",
              "      \n",
              "  <style>\n",
              "    .colab-df-container {\n",
              "      display:flex;\n",
              "      flex-wrap:wrap;\n",
              "      gap: 12px;\n",
              "    }\n",
              "\n",
              "    .colab-df-convert {\n",
              "      background-color: #E8F0FE;\n",
              "      border: none;\n",
              "      border-radius: 50%;\n",
              "      cursor: pointer;\n",
              "      display: none;\n",
              "      fill: #1967D2;\n",
              "      height: 32px;\n",
              "      padding: 0 0 0 0;\n",
              "      width: 32px;\n",
              "    }\n",
              "\n",
              "    .colab-df-convert:hover {\n",
              "      background-color: #E2EBFA;\n",
              "      box-shadow: 0px 1px 2px rgba(60, 64, 67, 0.3), 0px 1px 3px 1px rgba(60, 64, 67, 0.15);\n",
              "      fill: #174EA6;\n",
              "    }\n",
              "\n",
              "    [theme=dark] .colab-df-convert {\n",
              "      background-color: #3B4455;\n",
              "      fill: #D2E3FC;\n",
              "    }\n",
              "\n",
              "    [theme=dark] .colab-df-convert:hover {\n",
              "      background-color: #434B5C;\n",
              "      box-shadow: 0px 1px 3px 1px rgba(0, 0, 0, 0.15);\n",
              "      filter: drop-shadow(0px 1px 2px rgba(0, 0, 0, 0.3));\n",
              "      fill: #FFFFFF;\n",
              "    }\n",
              "  </style>\n",
              "\n",
              "      <script>\n",
              "        const buttonEl =\n",
              "          document.querySelector('#df-c59e68f9-244b-4864-9c3c-f4149cde7c99 button.colab-df-convert');\n",
              "        buttonEl.style.display =\n",
              "          google.colab.kernel.accessAllowed ? 'block' : 'none';\n",
              "\n",
              "        async function convertToInteractive(key) {\n",
              "          const element = document.querySelector('#df-c59e68f9-244b-4864-9c3c-f4149cde7c99');\n",
              "          const dataTable =\n",
              "            await google.colab.kernel.invokeFunction('convertToInteractive',\n",
              "                                                     [key], {});\n",
              "          if (!dataTable) return;\n",
              "\n",
              "          const docLinkHtml = 'Like what you see? Visit the ' +\n",
              "            '<a target=\"_blank\" href=https://colab.research.google.com/notebooks/data_table.ipynb>data table notebook</a>'\n",
              "            + ' to learn more about interactive tables.';\n",
              "          element.innerHTML = '';\n",
              "          dataTable['output_type'] = 'display_data';\n",
              "          await google.colab.output.renderOutput(dataTable, element);\n",
              "          const docLink = document.createElement('div');\n",
              "          docLink.innerHTML = docLinkHtml;\n",
              "          element.appendChild(docLink);\n",
              "        }\n",
              "      </script>\n",
              "    </div>\n",
              "  </div>\n",
              "  "
            ]
          },
          "metadata": {},
          "execution_count": 8
        }
      ]
    },
    {
      "cell_type": "markdown",
      "source": [
        "## Data Management and Analysis Best Practice Reasoning:\n",
        "\n",
        "Removing Whitespace:\n",
        "\n",
        "1.   Ensures data cleanliness and integrity by eliminating unnecessary whitespaces that might be present at the beginning or end of the text values.\n",
        "2.   Prevents potential issues caused by inconsistent whitespace usage, such as unintentional differences during comparisons or unintended filtering results.\n",
        "\n",
        "Converting to Upper Case:\n",
        "\n",
        "1.   Ensures consistency and uniformity across text values, eliminating mixed-case variations and simplifying comparisons or sorting.\n",
        "2.   Enhances readability, making it easier to comprehend text values, especially when displaying or sharing with others.\n",
        "3.   Facilitates efficient search and filtering through case-insensitive matching, improving data retrieval accuracy and efficiency.\n",
        "\n",
        "Using Snake Case:\n",
        "\n",
        "1.   Enhances data accuracy and eliminates redundancy by removing rows that contain identical data across all columns.\n",
        "2.   Prevents potential errors or biases that may arise from duplicate records during analysis or reporting.\n",
        "3.   Maintains consistency throughout a dataset, simplifying data exploration, analysis, and reporting by creating a unified structure for identifying and accessing specific attributes or variables.\n",
        "\n",
        "Removing Duplicate Rows:\n",
        "\n",
        "1.   Enhances readability and clarity by visually separating words with underscores, improving understanding of compound terms.\n",
        "2.   Aligns with programming practices, enabling seamless integration with data processing pipelines, APIs, and code libraries.\n",
        "3.   Removes uncessary computational strain or duplication of results."
      ],
      "metadata": {
        "id": "6gNxpUer2fQ8"
      }
    },
    {
      "cell_type": "markdown",
      "source": [
        "## Addressing null Values"
      ],
      "metadata": {
        "id": "o8Vykz2d2lM5"
      }
    },
    {
      "cell_type": "code",
      "source": [
        "df_FactOrder['activity_category'] = df_FactOrder['activity_category'].fillna('UNKNOWN')"
      ],
      "metadata": {
        "id": "SPDAvOUhLUvK"
      },
      "execution_count": 9,
      "outputs": []
    },
    {
      "cell_type": "markdown",
      "source": [
        "Reasoning:\n",
        "Handling null values in a dataset is a task that heavily depends on the scope of requirements. Null (or NaN) values can arise due to various reasons such as missing data, incomplete records, or data entry errors.\n",
        "\n",
        "In this assessment, we will explore the complexities associated with null values and propose an initial approach for handling them.\n",
        "\n",
        "Addressing null values involves making decisions that align with the purpose and context of the data. For **machine learning preprocessing,** filling null values with mean, mode, or median using backward or forward fill methods (bfill or ffill) is a common practice. However, it's important to consider the implications of such imputation techniques:\n",
        "\n",
        "\n",
        "*    Potential Data Skew: Filling null values with statistical measures like mean, mode, or median can introduce bias and skew the distribution of the data. This could impact the accuracy and reliability of subsequent machine learning models.\n",
        "\n",
        "**For analysis purposes,** a deeper understanding of why null values exist is essential. It involves investigating the underlying reasons for the null values and making informed decisions accordingly:\n",
        "\n",
        "1.   Determining Accuracy: Assessing the accuracy and reliability of null values is crucial. Are they genuinely missing, or do they hold a specific meaning within the data? Understanding the nature and context of null values helps to avoid incorrect assumptions during analysis.\n",
        "2.   Engaging Stakeholders: If null values are encountered, reaching out to the data owner or relevant stakeholders might be necessary. Discussing the reasons behind the null values can provide valuable insights and clarify any ambiguities. Collaborating with domain experts helps in determining the appropriate course of action.\n",
        "\n",
        "\n",
        "Considering the above challenges and for the sake of this assignment, we will classify null values in activity_category as 'UNKNOWN', as they are, in contrast to the 'OTHER' value, to designate them as a separate category. However, it's important to note that this is an initial approach, and further discussion and analysis are necessary to determine the correct categories and treatment for null values.\n"
      ],
      "metadata": {
        "id": "i8SnHe2PnAYV"
      }
    },
    {
      "cell_type": "code",
      "source": [
        "df_FactOrder.head()"
      ],
      "metadata": {
        "colab": {
          "base_uri": "https://localhost:8080/",
          "height": 357
        },
        "id": "aoXecxci-qzw",
        "outputId": "c52d290a-fdf5-4aad-9189-d3a25f40ca07"
      },
      "execution_count": 10,
      "outputs": [
        {
          "output_type": "execute_result",
          "data": {
            "text/plain": [
              "                           order_id                        booking_id  \\\n",
              "0  ea647a26545133eb1178627c660eb307  79110c8c61651a17c71d36d1ff400902   \n",
              "1  c9d995fdd3f8f46113f72719428e58c0  cb3f1a6b758322c3750297bbbba75162   \n",
              "2  838a05584192eab5758dc76eb8754382  1d84c6ef74f4213bc111a31230e75d18   \n",
              "3  c552f12c32f6e4eaf8b67b088ba263ed  bf7f177122241fb49d8905a3c22a28c8   \n",
              "4  7474f90401e812a747c518061a0e964c  2b1b6db082b298d7a69d683d9415ecfe   \n",
              "\n",
              "                        customer_id  net_revenue  gross_merchandise_value  \\\n",
              "0  2e08815f0bc331f3c8239676b9755701    76.416113               362.809890   \n",
              "1  99a84ab22128410a7ca82a8848314880    30.105888               100.377201   \n",
              "2  7d2de46dab587a091d4d795f3466ec02    16.083138                41.534976   \n",
              "3  c8899bd2bdc56ef116a38ec0f2c2cfa2    13.950031                76.161595   \n",
              "4  e408bdd3d03e4f4189f48f0e8e9c2ec2    12.713799                51.909630   \n",
              "\n",
              "           date_of_checkout            date_of_travel  activity_category  \\\n",
              "0 2017-08-04 21:31:19+00:00 2017-08-06 18:00:00+00:00        CITY_CRUISE   \n",
              "1 2018-07-08 13:48:15+00:00 2018-07-11 10:15:00+00:00        CITY_CRUISE   \n",
              "2 2017-08-17 13:45:36+00:00 2017-08-17 07:30:00+00:00  ATTRACTION_TICKET   \n",
              "3 2017-08-31 03:33:30+00:00 2017-09-02 12:15:00+00:00  ATTRACTION_TICKET   \n",
              "4 2018-08-20 17:35:47+00:00 2018-08-21 08:00:00+00:00  ATTRACTION_TICKET   \n",
              "\n",
              "   device_id  \n",
              "0          1  \n",
              "1          3  \n",
              "2          3  \n",
              "3          2  \n",
              "4          2  "
            ],
            "text/html": [
              "\n",
              "  <div id=\"df-0f90fe2a-d6e2-45ab-867f-06ce3f7505f1\">\n",
              "    <div class=\"colab-df-container\">\n",
              "      <div>\n",
              "<style scoped>\n",
              "    .dataframe tbody tr th:only-of-type {\n",
              "        vertical-align: middle;\n",
              "    }\n",
              "\n",
              "    .dataframe tbody tr th {\n",
              "        vertical-align: top;\n",
              "    }\n",
              "\n",
              "    .dataframe thead th {\n",
              "        text-align: right;\n",
              "    }\n",
              "</style>\n",
              "<table border=\"1\" class=\"dataframe\">\n",
              "  <thead>\n",
              "    <tr style=\"text-align: right;\">\n",
              "      <th></th>\n",
              "      <th>order_id</th>\n",
              "      <th>booking_id</th>\n",
              "      <th>customer_id</th>\n",
              "      <th>net_revenue</th>\n",
              "      <th>gross_merchandise_value</th>\n",
              "      <th>date_of_checkout</th>\n",
              "      <th>date_of_travel</th>\n",
              "      <th>activity_category</th>\n",
              "      <th>device_id</th>\n",
              "    </tr>\n",
              "  </thead>\n",
              "  <tbody>\n",
              "    <tr>\n",
              "      <th>0</th>\n",
              "      <td>ea647a26545133eb1178627c660eb307</td>\n",
              "      <td>79110c8c61651a17c71d36d1ff400902</td>\n",
              "      <td>2e08815f0bc331f3c8239676b9755701</td>\n",
              "      <td>76.416113</td>\n",
              "      <td>362.809890</td>\n",
              "      <td>2017-08-04 21:31:19+00:00</td>\n",
              "      <td>2017-08-06 18:00:00+00:00</td>\n",
              "      <td>CITY_CRUISE</td>\n",
              "      <td>1</td>\n",
              "    </tr>\n",
              "    <tr>\n",
              "      <th>1</th>\n",
              "      <td>c9d995fdd3f8f46113f72719428e58c0</td>\n",
              "      <td>cb3f1a6b758322c3750297bbbba75162</td>\n",
              "      <td>99a84ab22128410a7ca82a8848314880</td>\n",
              "      <td>30.105888</td>\n",
              "      <td>100.377201</td>\n",
              "      <td>2018-07-08 13:48:15+00:00</td>\n",
              "      <td>2018-07-11 10:15:00+00:00</td>\n",
              "      <td>CITY_CRUISE</td>\n",
              "      <td>3</td>\n",
              "    </tr>\n",
              "    <tr>\n",
              "      <th>2</th>\n",
              "      <td>838a05584192eab5758dc76eb8754382</td>\n",
              "      <td>1d84c6ef74f4213bc111a31230e75d18</td>\n",
              "      <td>7d2de46dab587a091d4d795f3466ec02</td>\n",
              "      <td>16.083138</td>\n",
              "      <td>41.534976</td>\n",
              "      <td>2017-08-17 13:45:36+00:00</td>\n",
              "      <td>2017-08-17 07:30:00+00:00</td>\n",
              "      <td>ATTRACTION_TICKET</td>\n",
              "      <td>3</td>\n",
              "    </tr>\n",
              "    <tr>\n",
              "      <th>3</th>\n",
              "      <td>c552f12c32f6e4eaf8b67b088ba263ed</td>\n",
              "      <td>bf7f177122241fb49d8905a3c22a28c8</td>\n",
              "      <td>c8899bd2bdc56ef116a38ec0f2c2cfa2</td>\n",
              "      <td>13.950031</td>\n",
              "      <td>76.161595</td>\n",
              "      <td>2017-08-31 03:33:30+00:00</td>\n",
              "      <td>2017-09-02 12:15:00+00:00</td>\n",
              "      <td>ATTRACTION_TICKET</td>\n",
              "      <td>2</td>\n",
              "    </tr>\n",
              "    <tr>\n",
              "      <th>4</th>\n",
              "      <td>7474f90401e812a747c518061a0e964c</td>\n",
              "      <td>2b1b6db082b298d7a69d683d9415ecfe</td>\n",
              "      <td>e408bdd3d03e4f4189f48f0e8e9c2ec2</td>\n",
              "      <td>12.713799</td>\n",
              "      <td>51.909630</td>\n",
              "      <td>2018-08-20 17:35:47+00:00</td>\n",
              "      <td>2018-08-21 08:00:00+00:00</td>\n",
              "      <td>ATTRACTION_TICKET</td>\n",
              "      <td>2</td>\n",
              "    </tr>\n",
              "  </tbody>\n",
              "</table>\n",
              "</div>\n",
              "      <button class=\"colab-df-convert\" onclick=\"convertToInteractive('df-0f90fe2a-d6e2-45ab-867f-06ce3f7505f1')\"\n",
              "              title=\"Convert this dataframe to an interactive table.\"\n",
              "              style=\"display:none;\">\n",
              "        \n",
              "  <svg xmlns=\"http://www.w3.org/2000/svg\" height=\"24px\"viewBox=\"0 0 24 24\"\n",
              "       width=\"24px\">\n",
              "    <path d=\"M0 0h24v24H0V0z\" fill=\"none\"/>\n",
              "    <path d=\"M18.56 5.44l.94 2.06.94-2.06 2.06-.94-2.06-.94-.94-2.06-.94 2.06-2.06.94zm-11 1L8.5 8.5l.94-2.06 2.06-.94-2.06-.94L8.5 2.5l-.94 2.06-2.06.94zm10 10l.94 2.06.94-2.06 2.06-.94-2.06-.94-.94-2.06-.94 2.06-2.06.94z\"/><path d=\"M17.41 7.96l-1.37-1.37c-.4-.4-.92-.59-1.43-.59-.52 0-1.04.2-1.43.59L10.3 9.45l-7.72 7.72c-.78.78-.78 2.05 0 2.83L4 21.41c.39.39.9.59 1.41.59.51 0 1.02-.2 1.41-.59l7.78-7.78 2.81-2.81c.8-.78.8-2.07 0-2.86zM5.41 20L4 18.59l7.72-7.72 1.47 1.35L5.41 20z\"/>\n",
              "  </svg>\n",
              "      </button>\n",
              "      \n",
              "  <style>\n",
              "    .colab-df-container {\n",
              "      display:flex;\n",
              "      flex-wrap:wrap;\n",
              "      gap: 12px;\n",
              "    }\n",
              "\n",
              "    .colab-df-convert {\n",
              "      background-color: #E8F0FE;\n",
              "      border: none;\n",
              "      border-radius: 50%;\n",
              "      cursor: pointer;\n",
              "      display: none;\n",
              "      fill: #1967D2;\n",
              "      height: 32px;\n",
              "      padding: 0 0 0 0;\n",
              "      width: 32px;\n",
              "    }\n",
              "\n",
              "    .colab-df-convert:hover {\n",
              "      background-color: #E2EBFA;\n",
              "      box-shadow: 0px 1px 2px rgba(60, 64, 67, 0.3), 0px 1px 3px 1px rgba(60, 64, 67, 0.15);\n",
              "      fill: #174EA6;\n",
              "    }\n",
              "\n",
              "    [theme=dark] .colab-df-convert {\n",
              "      background-color: #3B4455;\n",
              "      fill: #D2E3FC;\n",
              "    }\n",
              "\n",
              "    [theme=dark] .colab-df-convert:hover {\n",
              "      background-color: #434B5C;\n",
              "      box-shadow: 0px 1px 3px 1px rgba(0, 0, 0, 0.15);\n",
              "      filter: drop-shadow(0px 1px 2px rgba(0, 0, 0, 0.3));\n",
              "      fill: #FFFFFF;\n",
              "    }\n",
              "  </style>\n",
              "\n",
              "      <script>\n",
              "        const buttonEl =\n",
              "          document.querySelector('#df-0f90fe2a-d6e2-45ab-867f-06ce3f7505f1 button.colab-df-convert');\n",
              "        buttonEl.style.display =\n",
              "          google.colab.kernel.accessAllowed ? 'block' : 'none';\n",
              "\n",
              "        async function convertToInteractive(key) {\n",
              "          const element = document.querySelector('#df-0f90fe2a-d6e2-45ab-867f-06ce3f7505f1');\n",
              "          const dataTable =\n",
              "            await google.colab.kernel.invokeFunction('convertToInteractive',\n",
              "                                                     [key], {});\n",
              "          if (!dataTable) return;\n",
              "\n",
              "          const docLinkHtml = 'Like what you see? Visit the ' +\n",
              "            '<a target=\"_blank\" href=https://colab.research.google.com/notebooks/data_table.ipynb>data table notebook</a>'\n",
              "            + ' to learn more about interactive tables.';\n",
              "          element.innerHTML = '';\n",
              "          dataTable['output_type'] = 'display_data';\n",
              "          await google.colab.output.renderOutput(dataTable, element);\n",
              "          const docLink = document.createElement('div');\n",
              "          docLink.innerHTML = docLinkHtml;\n",
              "          element.appendChild(docLink);\n",
              "        }\n",
              "      </script>\n",
              "    </div>\n",
              "  </div>\n",
              "  "
            ]
          },
          "metadata": {},
          "execution_count": 10
        }
      ]
    },
    {
      "cell_type": "code",
      "source": [
        "# Create a cleaned csv version\n",
        "df_FactOrder.to_csv('cleaned_fact_orders.csv', index=False)"
      ],
      "metadata": {
        "id": "wDwQO44mrKse"
      },
      "execution_count": 11,
      "outputs": []
    },
    {
      "cell_type": "markdown",
      "source": [
        "## Task 2.\n",
        "Plot a count of bookings over time. Point out anything you notice about the timeseries.\n",
        "\n",
        "\n"
      ],
      "metadata": {
        "id": "2WR3TzlNy5eR"
      }
    },
    {
      "cell_type": "code",
      "source": [
        "# Extract the date from the \"date_of_checkout\" column\n",
        "df_FactOrder[\"date\"] = df_FactOrder[\"date_of_checkout\"].dt.date\n",
        "\n",
        "# Group the data by date and count the number of bookings\n",
        "bookings_count = df_FactOrder.groupby(\"date\")[\"booking_id\"].count().reset_index()\n",
        "\n",
        "# Plot the count of bookings over time\n",
        "plt.figure(figsize=(10, 5))\n",
        "sns.lineplot(x=\"date\", y=\"booking_id\", data=bookings_count, color=\"blue\")\n",
        "plt.title(\"Count of Bookings Over Time\", fontsize=16)\n",
        "plt.xlabel(\"Date\", fontsize=12)\n",
        "plt.ylabel(\"Number of Bookings\", fontsize=12)\n",
        "plt.xticks(rotation=45, ha=\"right\", fontsize=8)\n",
        "plt.yticks(fontsize=10)\n",
        "plt.grid(True, linestyle=\"--\", alpha=0.5)\n",
        "plt.tight_layout()\n",
        "plt.show()"
      ],
      "metadata": {
        "colab": {
          "base_uri": "https://localhost:8080/",
          "height": 507
        },
        "id": "nu3dtFv1Vp3I",
        "outputId": "f52137e9-ba2f-4fdf-87cd-254ef23e92a8"
      },
      "execution_count": 12,
      "outputs": [
        {
          "output_type": "display_data",
          "data": {
            "text/plain": [
              "<Figure size 1000x500 with 1 Axes>"
            ],
            "image/png": "[encoded data removed]"
          },
          "metadata": {}
        }
      ]
    },
    {
      "cell_type": "markdown",
      "source": [
        "> This time series, along with further insight, is available in a Looker Studio dashboard for interested stakeholders: https://lookerstudio.google.com/u/0/reporting/c7ce0992-f20d-4b9d-a446-2e389c1caed7/page/p_ctkfyqft5c\n",
        "\n",
        "Based solely on the time series analysis there are noticeable uptrends in bookings around the December time frame. However, it is important to note that accurately plotting the bookings would require data on the date of booking, rather than just the date of **checkout or travel**. To ensure accuracy, it is recommended to reconfirm this information with stakeholders or obtain data specifically related to booking dates.\n",
        "\n",
        "Furthermore, when comparing the growth of bookings, it can be observed that 2018 was a relatively slow year in comparison to the growth achieved in previous years. This suggests that there might have been a deceleration or stagnation in bookings during that particular year.\n",
        "\n",
        "Please note that these conclusions are based on the analysis solely of the time series data, and further insights and confirmation from relevant stakeholders would be necessary to provide a comprehensive understanding of the booking trends and their underlying factors.\n"
      ],
      "metadata": {
        "id": "RsPH_fIYZ9Su"
      }
    },
    {
      "cell_type": "code",
      "source": [
        "# Finding the most recent travel date from customers\n",
        "fact_orders = pd.read_sql_query(\"\"\"\n",
        "WITH most_recent_booking AS (\n",
        "     SELECT\n",
        "        customer_id,\n",
        "        booking_id,\n",
        "        date_of_checkout,\n",
        "        ROW_NUMBER() OVER (PARTITION BY customer_id ORDER BY date_of_checkout DESC) AS row\n",
        "     FROM fact_orders\n",
        "     GROUP BY activity_category\n",
        ")\n",
        "\n",
        "SELECT *\n",
        "FROM most_recent_booking\n",
        "WHERE row = 1\n",
        "\"\"\", conn)\n",
        "\n",
        "# Print the results as a formatted table\n",
        "print(tabulate(fact_orders, headers='keys', tablefmt='psql'))"
      ],
      "metadata": {
        "colab": {
          "base_uri": "https://localhost:8080/"
        },
        "id": "fkxdXFs1B7sL",
        "outputId": "3eb14569-ab30-4d73-9c70-8cd1da477a59"
      },
      "execution_count": 13,
      "outputs": [
        {
          "output_type": "stream",
          "name": "stdout",
          "text": [
            "+----+----------------------------------+----------------------------------+-------------------------------+-------+\n",
            "|    | customer_id                      | booking_id                       | date_of_checkout              |   row |\n",
            "|----+----------------------------------+----------------------------------+-------------------------------+-------|\n",
            "|  0 | 0158ae399b3fd436cb46d77efabbe370 | 2fd413ede756ab42678c4765ae1db6be | 2018-12-30T23:02:04.000+01:00 |     1 |\n",
            "|  1 | 172803d7f23a99e69c001f957aa3ac12 | c0786d73cf3e0e51a70f1345419267b2 | 2018-06-24T15:50:38.000+02:00 |     1 |\n",
            "|  2 | 1902796bbec692bd25d880e16c128401 | b7251ae1b144623f86376aac68d66c29 | 2018-07-26T18:13:14.000+02:00 |     1 |\n",
            "|  3 | 2e08815f0bc331f3c8239676b9755701 | 79110c8c61651a17c71d36d1ff400902 | 2017-08-04T23:31:19.000+02:00 |     1 |\n",
            "|  4 | 4a25183eaf46d11cecfbe244290d7cf0 | 68740f32b153de1f26754f2ac11de12c | 2017-06-08T21:46:07.000+02:00 |     1 |\n",
            "|  5 | 534c4dce89712e227075f0c9e99f08c0 | e941cb741294ce6b453f683de844d908 | 2018-01-18T20:12:58.000+01:00 |     1 |\n",
            "|  6 | 7cbefff2ff71ff8e42d5840d8b017110 | 00a216b9d86f35c26125ad07cdf61178 | 2017-03-14T05:41:08.000+01:00 |     1 |\n",
            "|  7 | 7d2de46dab587a091d4d795f3466ec02 | 1d84c6ef74f4213bc111a31230e75d18 | 2017-08-17T15:45:36.000+02:00 |     1 |\n",
            "|  8 | be1e5892e6e89b6e478df30bd4cec112 | 35ef35ac243e79a69d3658d2defd3d93 | 2018-07-30T09:26:32.000+02:00 |     1 |\n",
            "|  9 | d7d2986a823f0e06dced06e8949f24c0 | 6928601f1324985cbe7dbb1df6753211 | 2017-10-28T23:24:44.000+02:00 |     1 |\n",
            "| 10 | d8a85abbcc4f5124d274acf28e244961 | 2fb5f98f28c912885bc8a8c95f73f57d | 2018-01-03T18:23:50.000+01:00 |     1 |\n",
            "| 11 | e054513425e409f8698664e783a39e31 | 4dd7629e1b446d2854929ce447c81e01 | 2018-07-27T07:40:50.000+02:00 |     1 |\n",
            "+----+----------------------------------+----------------------------------+-------------------------------+-------+\n"
          ]
        }
      ]
    },
    {
      "cell_type": "markdown",
      "source": [
        "## Task 3.\n",
        "Analyse our activity categories. Tell us anything interesting you find about how they differ in net revenue (NR) and gross merchandise value (GMV). Are there other differences between categories that you notice?\n"
      ],
      "metadata": {
        "id": "LREwDKiFjix_"
      }
    },
    {
      "cell_type": "code",
      "source": [
        "# Summing net revenue by activity_category in SQL\n",
        "fact_orders = pd.read_sql_query(\"\"\"\n",
        "WITH sum_activity AS (\n",
        "     SELECT\n",
        "        activity_category,\n",
        "        SUM(net_revenue) AS sum_net_revenue,\n",
        "        SUM(gross_merchandise_value) AS sum_gmv\n",
        "     FROM fact_orders\n",
        "     GROUP BY activity_category\n",
        ")\n",
        "\n",
        "SELECT *,\n",
        "   sum_net_revenue / sum_gmv AS profit_ratio\n",
        "FROM sum_activity\n",
        "\"\"\", conn)\n",
        "\n",
        "# Print the results as a formatted table\n",
        "print(tabulate(fact_orders, headers='keys', tablefmt='psql'))"
      ],
      "metadata": {
        "id": "rTi5Me5q4q-S",
        "colab": {
          "base_uri": "https://localhost:8080/"
        },
        "outputId": "d8ef92d5-9aad-4068-b116-2a5abf6cdc7a"
      },
      "execution_count": 14,
      "outputs": [
        {
          "output_type": "stream",
          "name": "stdout",
          "text": [
            "+----+-------------------------+-------------------+------------------+----------------+\n",
            "|    | activity_category       |   sum_net_revenue |          sum_gmv |   profit_ratio |\n",
            "|----+-------------------------+-------------------+------------------+----------------|\n",
            "|  0 |                         |  238968           | 964066           |       0.247875 |\n",
            "|  1 | Attraction Ticket       |       1.06471e+06 |      4.27689e+06 |       0.248944 |\n",
            "|  2 | Attraction Walking Tour |  480817           |      2.66228e+06 |       0.180603 |\n",
            "|  3 | City Card               |   51041.3         | 282965           |       0.18038  |\n",
            "|  4 | City Cruise             |  473578           |      1.60672e+06 |       0.294748 |\n",
            "|  5 | City Motorized Tour     |  420536           |      1.65635e+06 |       0.253893 |\n",
            "|  6 | City Walking Tour       |  233568           | 901835           |       0.258992 |\n",
            "|  7 | Day Trip                |       1.21391e+06 |      4.45592e+06 |       0.272426 |\n",
            "|  8 | Hop On Hop Off          |  123749           | 420632           |       0.294198 |\n",
            "|  9 | Multi Day Trip          |   47278.5         | 183069           |       0.258254 |\n",
            "| 10 | Other                   |  179546           | 724262           |       0.247902 |\n",
            "| 11 | Transfer                |   33046.9         | 128664           |       0.256847 |\n",
            "+----+-------------------------+-------------------+------------------+----------------+\n"
          ]
        }
      ]
    },
    {
      "cell_type": "markdown",
      "source": [
        "Analysing the sum of net revenue by activity category, it is evident that the \"Day Trip and Attraction Ticket\" category stands out with significantly higher revenue figures. This indicates that customers are willing to spend more on day trips and attraction tickets, potentially due to the unique experiences and attractions offered. In addition, Day Trips yield one of the highest returns along with generating the most revenue.\n",
        "\n",
        "Understanding the contributing factors can provide valuable insights for decision-making and future business planning to capitalise on its revenue-generating potential.\n",
        "\n",
        "\n",
        "> Further insight, is available in a Looker Studio dashboard for interested stakeholders: https://lookerstudio.google.com/u/0/reporting/c7ce0992-f20d-4b9d-a446-2e389c1caed7/page/p_ctkfyqft5c"
      ],
      "metadata": {
        "id": "MNbWr4gjr0bH"
      }
    },
    {
      "cell_type": "code",
      "source": [
        "# Summing net revenue by activity_category in SQL\n",
        "fact_orders = pd.read_sql_query(\"\"\"\n",
        "     SELECT\n",
        "        customer_id,\n",
        "        SUM(net_revenue) AS sum_net_revenue\n",
        "     FROM fact_orders\n",
        "     GROUP BY customer_id\n",
        "     ORDER BY sum_net_revenue DESC\n",
        "\"\"\", conn)\n",
        "\n",
        "# Print the results as a formatted table in descending order\n",
        "print(tabulate(fact_orders.head(10), headers='keys', tablefmt='psql', showindex=False))\n"
      ],
      "metadata": {
        "colab": {
          "base_uri": "https://localhost:8080/"
        },
        "id": "mDYO29x_0P9u",
        "outputId": "bc025247-3f91-45a2-ccd3-879bae5f1886"
      },
      "execution_count": 15,
      "outputs": [
        {
          "output_type": "stream",
          "name": "stdout",
          "text": [
            "+----------------------------------+-------------------+\n",
            "| customer_id                      |   sum_net_revenue |\n",
            "|----------------------------------+-------------------|\n",
            "| d8a85abbcc4f5124d274acf28e244961 |          45060.9  |\n",
            "| 6a63f81fec0862f167025f1944190f72 |           8446.02 |\n",
            "| 534c4dce89712e227075f0c9e99f08c0 |           5956.01 |\n",
            "| 4754d05cbb98740965e07b51b07e3501 |           5111.5  |\n",
            "| 78a848605a59d983ee5850b13be94a81 |           2754.09 |\n",
            "| c4f0ffa7d16c548adb8fb66fa00c2221 |           2484.58 |\n",
            "| 3c03b3502017eb8342a0bc5c38231be1 |           2367.57 |\n",
            "| 055fd09f21b5bcb0622fc6900241e650 |           2267.13 |\n",
            "| d14ad437891dbceb198b97d5e1eb81a1 |           1809.47 |\n",
            "| 141a3a7298fbaffbf117ccc00848d452 |           1774.84 |\n",
            "+----------------------------------+-------------------+\n"
          ]
        }
      ]
    },
    {
      "cell_type": "markdown",
      "source": [
        "It's also worth noting customer_id: d8a85abbcc4f5124d274acf28e244961 has significantly higher net revenue in comparison to others."
      ],
      "metadata": {
        "id": "j90Z--Eyn4qG"
      }
    },
    {
      "cell_type": "markdown",
      "source": [
        "## Task 4.\n",
        "Some devices have unique booking behaviour. What is unique about device_ids 4 and 5?\n"
      ],
      "metadata": {
        "id": "rhTiseeCchYv"
      }
    },
    {
      "cell_type": "code",
      "source": [
        "# Looking into time interval between checkout and travel for device 4 and 5\n",
        "fact_orders = pd.read_sql_query(\"\"\"\n",
        "WITH time_between_checkout_travel AS (\n",
        "     SELECT\n",
        "        customer_id,\n",
        "        booking_id,\n",
        "        date_of_checkout,\n",
        "        date_of_travel,\n",
        "        device_id,\n",
        "        (julianday(date_of_travel) - julianday(date_of_checkout)) AS time_between_checkout_travel\n",
        "     FROM fact_orders\n",
        "     WHERE device_id IN (4, 5)\n",
        ")\n",
        "\n",
        "SELECT *\n",
        "FROM time_between_checkout_travel\n",
        "\"\"\", conn)\n",
        "#################################### Sorting Days from Checkout -> Activity into buckets################################\n",
        "####################################### #################################### ###########################################\n",
        "# Define the custom bins and labels\n",
        "bins = [0, 1, 3, 7, np.inf]\n",
        "labels = ['less than 1 day', '1 day', '3 days', '1 week plus']\n",
        "\n",
        "# Assign the data points to their respective buckets and count occurrences\n",
        "bucket_counts = (\n",
        "    fact_orders\n",
        "    .assign(bucket=lambda x: pd.cut(x['time_between_checkout_travel'], bins=bins, labels=labels, right=False))\n",
        "    ['bucket']\n",
        "    .value_counts()\n",
        "    .reindex(labels)\n",
        ")\n",
        "\n",
        "# Set the style for the plot\n",
        "sns.set(style=\"whitegrid\")\n",
        "\n",
        "# Plot the chart\n",
        "plt.figure(figsize=(8, 4))\n",
        "sns.barplot(x=bucket_counts.index, y=bucket_counts.values, palette=\"Blues_d\")\n",
        "plt.xlabel('Bucket')\n",
        "plt.ylabel('Count')\n",
        "plt.title('Days Between Checkout and Travel for Device 4 and 5')\n",
        "plt.xticks(rotation=45)\n",
        "\n",
        "# Add value labels to the bars\n",
        "for i, count in enumerate(bucket_counts.values):\n",
        "    plt.text(i, count, str(count), ha='center', va='bottom')\n",
        "\n",
        "# Display the chart\n",
        "plt.show()\n"
      ],
      "metadata": {
        "colab": {
          "base_uri": "https://localhost:8080/",
          "height": 497
        },
        "id": "HMyua6g7Di1c",
        "outputId": "3c59ef2e-8d5c-4b70-9a3e-469618efb6e7"
      },
      "execution_count": 17,
      "outputs": [
        {
          "output_type": "display_data",
          "data": {
            "text/plain": [
              "<Figure size 800x400 with 1 Axes>"
            ],
            "image/png": "[encoded data removed]"
          },
          "metadata": {}
        }
      ]
    },
    {
      "cell_type": "markdown",
      "source": [
        "Further analysis can be drawn from the dashboard: https://lookerstudio.google.com/u/0/reporting/c7ce0992-f20d-4b9d-a446-2e389c1caed7"
      ],
      "metadata": {
        "id": "3aGl6QkO9DFT"
      }
    }
  ]
}